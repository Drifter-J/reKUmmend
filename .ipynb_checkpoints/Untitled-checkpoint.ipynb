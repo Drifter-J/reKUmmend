{
 "cells": [
  {
   "cell_type": "code",
   "execution_count": 1,
   "metadata": {
    "collapsed": false
   },
   "outputs": [
    {
     "name": "stderr",
     "output_type": "stream",
     "text": [
      "2015-05-31T21:19:35.1433074775 QT: QFont::setPixelSize: Pixel size <= 0 (0)\n",
      "WARNING:qt:QFont::setPixelSize: Pixel size <= 0 (0)\n",
      "2015-05-31T21:19:38.1433074778 Ghost(<3cbe4ade-48b6-4316-99f6-1e35750b1730>): undefined(0): TypeError: 'undefined' is not a function\n",
      "WARNING:ghost:undefined(0): TypeError: 'undefined' is not a function\n",
      "2015-05-31T21:19:38.1433074778 QT: QFont::setPixelSize: Pixel size <= 0 (0)\n",
      "WARNING:qt:QFont::setPixelSize: Pixel size <= 0 (0)\n",
      "2015-05-31T21:19:40.1433074780 Ghost(<3cbe4ade-48b6-4316-99f6-1e35750b1730>): undefined(0): TypeError: 'undefined' is not a function\n",
      "WARNING:ghost:undefined(0): TypeError: 'undefined' is not a function\n"
     ]
    },
    {
     "ename": "NameError",
     "evalue": "name 'PyQt4' is not defined",
     "output_type": "error",
     "traceback": [
      "\u001b[0;31m---------------------------------------------------------------------------\u001b[0m",
      "\u001b[0;31mNameError\u001b[0m                                 Traceback (most recent call last)",
      "\u001b[0;32m<ipython-input-1-f337b8e869e5>\u001b[0m in \u001b[0;36m<module>\u001b[0;34m()\u001b[0m\n\u001b[1;32m     15\u001b[0m \u001b[0ma\u001b[0m \u001b[0;34m=\u001b[0m \u001b[0mKuKlueCrawler\u001b[0m\u001b[0;34m(\u001b[0m\u001b[0mid\u001b[0m\u001b[0;34m=\u001b[0m\u001b[0muserId\u001b[0m\u001b[0;34m,\u001b[0m\u001b[0mpw\u001b[0m\u001b[0;34m=\u001b[0m\u001b[0muserPw\u001b[0m\u001b[0;34m)\u001b[0m\u001b[0;34m\u001b[0m\u001b[0m\n\u001b[1;32m     16\u001b[0m \u001b[0mpage\u001b[0m\u001b[0;34m,\u001b[0m \u001b[0mresource\u001b[0m \u001b[0;34m=\u001b[0m \u001b[0ma\u001b[0m\u001b[0;34m.\u001b[0m\u001b[0mopenPage\u001b[0m\u001b[0;34m(\u001b[0m\u001b[0;34m'http://klue.kr/myLectureEval.php'\u001b[0m\u001b[0;34m)\u001b[0m\u001b[0;34m\u001b[0m\u001b[0m\n\u001b[0;32m---> 17\u001b[0;31m \u001b[0mpage\u001b[0m \u001b[0;34m=\u001b[0m \u001b[0municode\u001b[0m\u001b[0;34m(\u001b[0m\u001b[0mpage\u001b[0m\u001b[0;34m[\u001b[0m\u001b[0mPyQt4\u001b[0m\u001b[0;34m.\u001b[0m\u001b[0mQtCore\u001b[0m\u001b[0;34m.\u001b[0m\u001b[0mQString\u001b[0m\u001b[0;34m(\u001b[0m\u001b[0;34mu'0'\u001b[0m\u001b[0;34m)\u001b[0m\u001b[0;34m]\u001b[0m\u001b[0;34m[\u001b[0m\u001b[0mPyQt4\u001b[0m\u001b[0;34m.\u001b[0m\u001b[0mQtCore\u001b[0m\u001b[0;34m.\u001b[0m\u001b[0mQString\u001b[0m\u001b[0;34m(\u001b[0m\u001b[0;34mu'outerHTML'\u001b[0m\u001b[0;34m)\u001b[0m\u001b[0;34m]\u001b[0m\u001b[0;34m)\u001b[0m\u001b[0;34m.\u001b[0m\u001b[0mencode\u001b[0m\u001b[0;34m(\u001b[0m\u001b[0;34m'utf-8'\u001b[0m\u001b[0;34m)\u001b[0m\u001b[0;34m\u001b[0m\u001b[0m\n\u001b[0m\u001b[1;32m     18\u001b[0m \u001b[0mlec\u001b[0m \u001b[0;34m=\u001b[0m \u001b[0mBeautifulSoup\u001b[0m\u001b[0;34m(\u001b[0m\u001b[0mpage\u001b[0m\u001b[0;34m)\u001b[0m\u001b[0;34m\u001b[0m\u001b[0m\n\u001b[1;32m     19\u001b[0m \u001b[0;34m\u001b[0m\u001b[0m\n",
      "\u001b[0;31mNameError\u001b[0m: name 'PyQt4' is not defined"
     ]
    }
   ],
   "source": [
    "# -*- coding: utf-8 -*-\n",
    "\n",
    "import json as js\n",
    "from flask import Flask, request, g, redirect, url_for, render_template, jsonify\n",
    "\n",
    "from pattern import web\n",
    "from BeautifulSoup import BeautifulSoup\n",
    "from ghost import Ghost\n",
    "import urllib2\n",
    "\n",
    "import PyQt4\n",
    "\n",
    "from ghost_crawl import KuKlueCrawler\n",
    "\n",
    "userId = 'rudvlf0413'\n",
    "userPw = '0a4a1a3a'\n",
    "a = KuKlueCrawler(id=userId,pw=userPw)\n",
    "page, resource = a.openPage('http://klue.kr/myLectureEval.php')\n",
    "page = unicode(page[PyQt4.QtCore.QString(u'0')][PyQt4.QtCore.QString(u'outerHTML')]).encode('utf-8')\n",
    "lec = BeautifulSoup(page)\n",
    "\n",
    "lecContent = lec.find('div',{'class':['lectureEvalList']}).findAll('div',{'class':['content']})\n",
    "\n",
    "#me = Person()\n",
    "name = lecContent[0].find('div',{'class':['wrInfo']}).a.text.encode('utf-8')\n",
    "print name\n",
    "for item in lecContent:\n",
    "\tname = item.find('div',{'class':['wrInfo']}).text.encode('utf-8')\n",
    "\tname = name.split('님')[0]\n",
    "\t\n",
    "\t\n",
    "\ttotal = float(item.find('div',{'class':['e total']}).find('div','center').findAll('span','active'))\n",
    "\tdiff = float(item.find('div',{'class':['e difficulty']}).find('div','center').findAll('span','active'))\t\n",
    "\tstudyTime = float(item.find('div',{'class':['e studyTime']}).find('div','center').findAll('span','active'))\n",
    "\tattendance = float(item.find('div',{'class':['e attendance']}).find('div','center').findAll('span','active'))\n",
    "\tgrade = float(item.find('div',{'class':['e grade']}).find('div','center').findAll('span','active'))\n",
    "\tachievement = float(item.find('div',{'class':['e achievement']}).find('div','center').findAll('span','active'))"
   ]
  },
  {
   "cell_type": "code",
   "execution_count": null,
   "metadata": {
    "collapsed": true
   },
   "outputs": [],
   "source": []
  }
 ],
 "metadata": {
  "kernelspec": {
   "display_name": "Python 2",
   "language": "python",
   "name": "python2"
  },
  "language_info": {
   "codemirror_mode": {
    "name": "ipython",
    "version": 2
   },
   "file_extension": ".py",
   "mimetype": "text/x-python",
   "name": "python",
   "nbconvert_exporter": "python",
   "pygments_lexer": "ipython2",
   "version": "2.7.9"
  }
 },
 "nbformat": 4,
 "nbformat_minor": 0
}
